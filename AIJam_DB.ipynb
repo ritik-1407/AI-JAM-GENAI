{
 "cells": [
  {
   "cell_type": "code",
   "execution_count": 4,
   "id": "initial_id",
   "metadata": {
    "collapsed": true,
    "ExecuteTime": {
     "end_time": "2024-03-14T15:51:03.181218Z",
     "start_time": "2024-03-14T15:51:03.175385Z"
    }
   },
   "outputs": [],
   "source": [
    "from openai import OpenAI\n",
    "import os"
   ]
  },
  {
   "cell_type": "code",
   "outputs": [],
   "source": [
    "\n"
   ],
   "metadata": {
    "collapsed": false,
    "ExecuteTime": {
     "end_time": "2024-03-14T15:51:03.900817Z",
     "start_time": "2024-03-14T15:51:03.827525Z"
    }
   },
   "id": "327050ec4a36622c",
   "execution_count": 5
  },
  {
   "cell_type": "code",
   "outputs": [],
   "source": [
    "def generate_cluster_name(cluster_content):\n",
    "    \"\"\"\n",
    "    Generate a name for a cluster based on its content using OpenAI's GPT-3 model.\n",
    "    \n",
    "    Args:\n",
    "    - cluster_content: A string containing the content of the cluster\n",
    "    \n",
    "    Returns:\n",
    "    - cluster_name: A generated name for the cluster\n",
    "    \"\"\"\n",
    "    # Set the prompt for GPT-3\n",
    "    messages = [\n",
    "        {\"role\": \"user\", \"content\": f'What do the following customer reviews have in common in one word?\\n\\nCustomer reviews:\\n\"\"\"\\n{cluster_content}\\n\"\"\"\\n\\nTheme:'}\n",
    "    ]\n",
    "\n",
    "    response = client.chat.completions.create(\n",
    "        model=\"gpt-4\",\n",
    "        messages=messages,\n",
    "        temperature=0,\n",
    "        max_tokens=64,\n",
    "        top_p=1,\n",
    "        frequency_penalty=0,\n",
    "        presence_penalty=0)\n",
    "    print(response.choices[0].message.content.replace(\"\\n\", \"\"))\n",
    "    \n",
    "    generated_text = response.choices[0].text.strip()\n",
    "    \n",
    "    \n",
    "    \n",
    "    return generated_text\n",
    "    \n",
    "    \n",
    "    "
   ],
   "metadata": {
    "collapsed": false,
    "ExecuteTime": {
     "end_time": "2024-03-14T16:04:55.837204Z",
     "start_time": "2024-03-14T16:04:55.806702Z"
    }
   },
   "id": "61289c99bdfc8ab0",
   "execution_count": 20
  },
  {
   "cell_type": "code",
   "outputs": [
    {
     "name": "stdout",
     "output_type": "stream",
     "text": [
      "Insurance\n"
     ]
    },
    {
     "ename": "AttributeError",
     "evalue": "'Choice' object has no attribute 'text'",
     "output_type": "error",
     "traceback": [
      "\u001B[0;31m---------------------------------------------------------------------------\u001B[0m",
      "\u001B[0;31mKeyError\u001B[0m                                  Traceback (most recent call last)",
      "File \u001B[0;32m~/PycharmProjects/Gen-AI-JAM/venv/lib/python3.9/site-packages/pydantic/main.py:759\u001B[0m, in \u001B[0;36mBaseModel.__getattr__\u001B[0;34m(self, item)\u001B[0m\n\u001B[1;32m    758\u001B[0m \u001B[38;5;28;01mtry\u001B[39;00m:\n\u001B[0;32m--> 759\u001B[0m     \u001B[38;5;28;01mreturn\u001B[39;00m \u001B[43mpydantic_extra\u001B[49m\u001B[43m[\u001B[49m\u001B[43mitem\u001B[49m\u001B[43m]\u001B[49m\n\u001B[1;32m    760\u001B[0m \u001B[38;5;28;01mexcept\u001B[39;00m \u001B[38;5;167;01mKeyError\u001B[39;00m \u001B[38;5;28;01mas\u001B[39;00m exc:\n",
      "\u001B[0;31mKeyError\u001B[0m: 'text'",
      "\nThe above exception was the direct cause of the following exception:\n",
      "\u001B[0;31mAttributeError\u001B[0m                            Traceback (most recent call last)",
      "Cell \u001B[0;32mIn[21], line 2\u001B[0m\n\u001B[1;32m      1\u001B[0m cluster_content \u001B[38;5;241m=\u001B[39m \u001B[38;5;124m\"\u001B[39m\u001B[38;5;124mAyse Deli\u001B[39m\u001B[38;5;130;01m\\n\u001B[39;00m\u001B[38;5;124mAm Schloß 9\u001B[39m\u001B[38;5;130;01m\\n\u001B[39;00m\u001B[38;5;124m35410 Hungen\u001B[39m\u001B[38;5;130;01m\\n\u001B[39;00m\u001B[38;5;124mInsiders Versicherungen\u001B[39m\u001B[38;5;130;01m\\n\u001B[39;00m\u001B[38;5;124mBrüsseler Straße 100\u001B[39m\u001B[38;5;130;01m\\n\u001B[39;00m\u001B[38;5;124m67657 Kaiserslautern\u001B[39m\u001B[38;5;130;01m\\n\u001B[39;00m\u001B[38;5;124mKündigung der Rentenversicherung Nr. 53189\u001B[39m\u001B[38;5;130;01m\\n\u001B[39;00m\u001B[38;5;124mDatum: 14.07.2015\u001B[39m\u001B[38;5;130;01m\\n\u001B[39;00m\u001B[38;5;124mVerehrte Damen und Herren,\u001B[39m\u001B[38;5;130;01m\\n\u001B[39;00m\u001B[38;5;124mleider muss ich Ihnen mit diesem Schreiben mitteilen, dass mein Ehemann Heinrich\u001B[39m\u001B[38;5;130;01m\\n\u001B[39;00m\u001B[38;5;124mvergangenen Montag verstorben ist. Bitte heben Sie aus diesem Grund den oben\u001B[39m\u001B[38;5;130;01m\\n\u001B[39;00m\u001B[38;5;124mgenannten Vertrag auf. Ich übersende Ihnen Ende dieser Woche den\u001B[39m\u001B[38;5;130;01m\\n\u001B[39;00m\u001B[38;5;124mVersicherungsschein sowie eine beglaubigte Sterbeurkunde.\u001B[39m\u001B[38;5;130;01m\\n\u001B[39;00m\u001B[38;5;124mDen Auszahlungsbetrag möchten Sie bitte auf das Konto 0147258369, BLZ 10020030\u001B[39m\u001B[38;5;130;01m\\n\u001B[39;00m\u001B[38;5;124mbei der Beispielbank Bielefeld erstatten.\u001B[39m\u001B[38;5;130;01m\\n\u001B[39;00m\u001B[38;5;124mFreundliche Grüße\u001B[39m\u001B[38;5;130;01m\\n\u001B[39;00m\u001B[38;5;124mDeli\u001B[39m\u001B[38;5;124m'\u001B[39m\u001B[38;5;124m\"\u001B[39m\n\u001B[0;32m----> 2\u001B[0m cluster_name \u001B[38;5;241m=\u001B[39m \u001B[43mgenerate_cluster_name\u001B[49m\u001B[43m(\u001B[49m\u001B[43mcluster_content\u001B[49m\u001B[43m)\u001B[49m\n\u001B[1;32m      3\u001B[0m \u001B[38;5;28mprint\u001B[39m(\u001B[38;5;124m\"\u001B[39m\u001B[38;5;124mCluster Name:\u001B[39m\u001B[38;5;124m\"\u001B[39m, cluster_name)\n",
      "Cell \u001B[0;32mIn[20], line 26\u001B[0m, in \u001B[0;36mgenerate_cluster_name\u001B[0;34m(cluster_content)\u001B[0m\n\u001B[1;32m     16\u001B[0m response \u001B[38;5;241m=\u001B[39m client\u001B[38;5;241m.\u001B[39mchat\u001B[38;5;241m.\u001B[39mcompletions\u001B[38;5;241m.\u001B[39mcreate(\n\u001B[1;32m     17\u001B[0m     model\u001B[38;5;241m=\u001B[39m\u001B[38;5;124m\"\u001B[39m\u001B[38;5;124mgpt-4\u001B[39m\u001B[38;5;124m\"\u001B[39m,\n\u001B[1;32m     18\u001B[0m     messages\u001B[38;5;241m=\u001B[39mmessages,\n\u001B[0;32m   (...)\u001B[0m\n\u001B[1;32m     22\u001B[0m     frequency_penalty\u001B[38;5;241m=\u001B[39m\u001B[38;5;241m0\u001B[39m,\n\u001B[1;32m     23\u001B[0m     presence_penalty\u001B[38;5;241m=\u001B[39m\u001B[38;5;241m0\u001B[39m)\n\u001B[1;32m     24\u001B[0m \u001B[38;5;28mprint\u001B[39m(response\u001B[38;5;241m.\u001B[39mchoices[\u001B[38;5;241m0\u001B[39m]\u001B[38;5;241m.\u001B[39mmessage\u001B[38;5;241m.\u001B[39mcontent\u001B[38;5;241m.\u001B[39mreplace(\u001B[38;5;124m\"\u001B[39m\u001B[38;5;130;01m\\n\u001B[39;00m\u001B[38;5;124m\"\u001B[39m, \u001B[38;5;124m\"\u001B[39m\u001B[38;5;124m\"\u001B[39m))\n\u001B[0;32m---> 26\u001B[0m generated_text \u001B[38;5;241m=\u001B[39m \u001B[43mresponse\u001B[49m\u001B[38;5;241;43m.\u001B[39;49m\u001B[43mchoices\u001B[49m\u001B[43m[\u001B[49m\u001B[38;5;241;43m0\u001B[39;49m\u001B[43m]\u001B[49m\u001B[38;5;241;43m.\u001B[39;49m\u001B[43mtext\u001B[49m\u001B[38;5;241m.\u001B[39mstrip()\n\u001B[1;32m     30\u001B[0m \u001B[38;5;28;01mreturn\u001B[39;00m generated_text\n",
      "File \u001B[0;32m~/PycharmProjects/Gen-AI-JAM/venv/lib/python3.9/site-packages/pydantic/main.py:761\u001B[0m, in \u001B[0;36mBaseModel.__getattr__\u001B[0;34m(self, item)\u001B[0m\n\u001B[1;32m    759\u001B[0m         \u001B[38;5;28;01mreturn\u001B[39;00m pydantic_extra[item]\n\u001B[1;32m    760\u001B[0m     \u001B[38;5;28;01mexcept\u001B[39;00m \u001B[38;5;167;01mKeyError\u001B[39;00m \u001B[38;5;28;01mas\u001B[39;00m exc:\n\u001B[0;32m--> 761\u001B[0m         \u001B[38;5;28;01mraise\u001B[39;00m \u001B[38;5;167;01mAttributeError\u001B[39;00m(\u001B[38;5;124mf\u001B[39m\u001B[38;5;124m'\u001B[39m\u001B[38;5;132;01m{\u001B[39;00m\u001B[38;5;28mtype\u001B[39m(\u001B[38;5;28mself\u001B[39m)\u001B[38;5;241m.\u001B[39m\u001B[38;5;18m__name__\u001B[39m\u001B[38;5;132;01m!r}\u001B[39;00m\u001B[38;5;124m object has no attribute \u001B[39m\u001B[38;5;132;01m{\u001B[39;00mitem\u001B[38;5;132;01m!r}\u001B[39;00m\u001B[38;5;124m'\u001B[39m) \u001B[38;5;28;01mfrom\u001B[39;00m \u001B[38;5;21;01mexc\u001B[39;00m\n\u001B[1;32m    762\u001B[0m \u001B[38;5;28;01melse\u001B[39;00m:\n\u001B[1;32m    763\u001B[0m     \u001B[38;5;28;01mif\u001B[39;00m \u001B[38;5;28mhasattr\u001B[39m(\u001B[38;5;28mself\u001B[39m\u001B[38;5;241m.\u001B[39m\u001B[38;5;18m__class__\u001B[39m, item):\n",
      "\u001B[0;31mAttributeError\u001B[0m: 'Choice' object has no attribute 'text'"
     ]
    }
   ],
   "source": [
    "for i in range(0,15):\n",
    "    \n",
    "    cluster_content= df.filter wheredf[\"lable=1\"]\n",
    "    cluster_name = generate_cluster_name(cluster_content)\n",
    "    print(\"Cluster Name:\", cluster_name)"
   ],
   "metadata": {
    "collapsed": false,
    "ExecuteTime": {
     "end_time": "2024-03-14T16:04:56.993060Z",
     "start_time": "2024-03-14T16:04:56.260167Z"
    }
   },
   "id": "82d099ae0f28ed1c",
   "execution_count": 21
  },
  {
   "cell_type": "code",
   "outputs": [],
   "source": [],
   "metadata": {
    "collapsed": false
   },
   "id": "f600208fa607317b"
  },
  {
   "cell_type": "code",
   "outputs": [],
   "source": [
    "\n"
   ],
   "metadata": {
    "collapsed": false
   },
   "id": "ee5bfc56e41100a6"
  },
  {
   "cell_type": "code",
   "outputs": [],
   "source": [
    "def generate_cluster_name(cluster_content):\n",
    "    \"\"\"\n",
    "    Generate a name for a cluster based on its content using OpenAI's GPT-3 model.\n",
    "    \n",
    "    Args:\n",
    "    - cluster_content: A string containing the content of the cluster\n",
    "    \n",
    "    Returns:\n",
    "    - cluster_name: A generated name for the cluster\n",
    "    \"\"\"\n",
    "    # Set the prompt for GPT-3\n",
    "    messages = [\n",
    "        {\"role\": \"user\", \"content\": f'What do the following text   have in common?\\n\\nthese text are retrived from german documents in one german word :\\n\"\"\"\\n{cluster_content}\\n\"\"\"\\n\\nTheme:'}\n",
    "    ]\n",
    "\n",
    "   \n",
    "\n",
    "    response = client.chat.completions.create(\n",
    "        model=\"gpt-4\",  # Adjust model name as needed\n",
    "        messages=messages,\n",
    "        temperature=2,\n",
    "        max_tokens=4,  # Adjust max_tokens to output just 2 words\n",
    "        top_p=1,\n",
    "        frequency_penalty=0,\n",
    "        presence_penalty=0\n",
    "    )\n",
    "    \n",
    "    generated_text = response.choices[0].message.content.strip()\n",
    "    # print(\"Generated Text (2 words):\", generated_text)\n",
    "        \n",
    "    \n",
    "    \n",
    "    return generated_text\n",
    "    \n",
    "    "
   ],
   "metadata": {
    "collapsed": false
   },
   "id": "63be5731711aa13e"
  },
  {
   "cell_type": "code",
   "outputs": [],
   "source": [],
   "metadata": {
    "collapsed": false
   },
   "id": "8594c0abc1737b90"
  },
  {
   "cell_type": "code",
   "outputs": [],
   "source": [
    "for i in range(0, 15):\n",
    "    print(i)\n",
    "    cluster_content = df[df[\"label\"] == i][\"values\"].tolist()[:7]\n",
    "    # Assuming \"cluster_content\" is the column containing the content of each cluster\n",
    "    \n",
    "    if cluster_content:\n",
    "        # If the cluster has content, generate a name for it\n",
    "        generated_name = generate_cluster_name('\\n'.join(cluster_content))\n",
    "        \n",
    "        print(f\"Cluster {i} Name:\", generated_name)\n",
    "    else:\n",
    "        # If the cluster is empty, print a message indicating it\n",
    "        print(f\"Cluster {i} is empty\")"
   ],
   "metadata": {
    "collapsed": false
   },
   "id": "95b6bfcb4c6623e7"
  },
  {
   "cell_type": "code",
   "outputs": [],
   "source": [],
   "metadata": {
    "collapsed": false
   },
   "id": "8eb620f31eeb96c"
  }
 ],
 "metadata": {
  "kernelspec": {
   "display_name": "Python 3",
   "language": "python",
   "name": "python3"
  },
  "language_info": {
   "codemirror_mode": {
    "name": "ipython",
    "version": 2
   },
   "file_extension": ".py",
   "mimetype": "text/x-python",
   "name": "python",
   "nbconvert_exporter": "python",
   "pygments_lexer": "ipython2",
   "version": "2.7.6"
  }
 },
 "nbformat": 4,
 "nbformat_minor": 5
}
